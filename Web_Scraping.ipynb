{
 "cells": [
  {
   "cell_type": "code",
   "execution_count": 1,
   "metadata": {
    "ExecuteTime": {
     "end_time": "2020-06-01T13:07:01.982733Z",
     "start_time": "2020-06-01T13:05:47.283616Z"
    }
   },
   "outputs": [
    {
     "name": "stdout",
     "output_type": "stream",
     "text": [
      "1. sayfa tamam. 2. sayfa tamam. 3. sayfa tamam. 4. sayfa tamam. 5. sayfa tamam. 6. sayfa tamam. 7. sayfa tamam. 8. sayfa tamam. 9. sayfa tamam. 10. sayfa tamam. 11. sayfa tamam. 12. sayfa tamam. 13. sayfa tamam. 14. sayfa tamam. 15. sayfa tamam. 16. sayfa tamam. 17. sayfa tamam. 18. sayfa tamam. 19. sayfa tamam. 20. sayfa tamam. 21. sayfa tamam. 22. sayfa tamam. 23. sayfa tamam. 24. sayfa tamam. 25. sayfa tamam. 26. sayfa tamam. 27. sayfa tamam. 28. sayfa tamam. 29. sayfa tamam. 30. sayfa tamam. 31. sayfa tamam. 32. sayfa tamam. 33. sayfa tamam. 34. sayfa tamam. 35. sayfa tamam. 36. sayfa tamam. 37. sayfa tamam. 38. sayfa tamam. 39. sayfa tamam. 40. sayfa tamam. 41. sayfa tamam. 42. sayfa tamam. 43. sayfa tamam. 44. sayfa tamam. 45. sayfa tamam. 46. sayfa tamam. 47. sayfa tamam. 48. sayfa tamam. 49. sayfa tamam. 50. sayfa tamam. 51. sayfa tamam. 52. sayfa tamam. 53. sayfa tamam. 54. sayfa tamam. 55. sayfa tamam. 56. sayfa tamam. 57. sayfa tamam. 58. sayfa tamam. 59. sayfa tamam. 60. sayfa tamam. 61. sayfa tamam. 62. sayfa tamam. 63. sayfa tamam. 64. sayfa tamam. 65. sayfa tamam. 66. sayfa tamam. 67. sayfa tamam. 68. sayfa tamam. 69. sayfa tamam. 70. sayfa tamam. 71. sayfa tamam. 72. sayfa tamam. 73. sayfa tamam. 74. sayfa tamam. "
     ]
    }
   ],
   "source": [
    "from bs4 import BeautifulSoup\n",
    "from urllib.request import urlopen\n",
    "import pandas as pd\n",
    "result_title = []\n",
    "result_summary = []\n",
    "for j in range(1,75):\n",
    "    html = urlopen(\"https://kampanyabul.org/category/akaryakit/page/\"+str(j)).read().decode('utf-8')\n",
    "    soup = BeautifulSoup(html, features='lxml')\n",
    "\n",
    "    for i in range(8):\n",
    "        title = soup.find_all('div', class_='title')[i].get_text()\n",
    "        summary = soup.find_all('div', class_='summary')[i].get_text()\n",
    "    \n",
    "        result_title.append(title)\n",
    "        result_summary.append(summary)\n",
    "    print(str(j) + '. sayfa tamam. ', end=\"\")"
   ]
  },
  {
   "cell_type": "code",
   "execution_count": 2,
   "metadata": {
    "ExecuteTime": {
     "end_time": "2020-06-01T13:07:20.510237Z",
     "start_time": "2020-06-01T13:07:20.505811Z"
    }
   },
   "outputs": [
    {
     "name": "stdout",
     "output_type": "stream",
     "text": [
      "592\n",
      "592\n"
     ]
    }
   ],
   "source": [
    "print(len(result_title))\n",
    "print(len(result_summary))"
   ]
  },
  {
   "cell_type": "code",
   "execution_count": 3,
   "metadata": {
    "ExecuteTime": {
     "end_time": "2020-06-01T13:07:33.639732Z",
     "start_time": "2020-06-01T13:07:33.627101Z"
    },
    "scrolled": true
   },
   "outputs": [],
   "source": [
    "df = pd.DataFrame({\n",
    "    'title' : result_title,\n",
    "    'details' : result_summary\n",
    "})"
   ]
  },
  {
   "cell_type": "code",
   "execution_count": 4,
   "metadata": {
    "ExecuteTime": {
     "end_time": "2020-06-01T13:07:39.587224Z",
     "start_time": "2020-06-01T13:07:39.564837Z"
    }
   },
   "outputs": [
    {
     "data": {
      "text/html": [
       "<div>\n",
       "<style scoped>\n",
       "    .dataframe tbody tr th:only-of-type {\n",
       "        vertical-align: middle;\n",
       "    }\n",
       "\n",
       "    .dataframe tbody tr th {\n",
       "        vertical-align: top;\n",
       "    }\n",
       "\n",
       "    .dataframe thead th {\n",
       "        text-align: right;\n",
       "    }\n",
       "</style>\n",
       "<table border=\"1\" class=\"dataframe\">\n",
       "  <thead>\n",
       "    <tr style=\"text-align: right;\">\n",
       "      <th></th>\n",
       "      <th>title</th>\n",
       "      <th>details</th>\n",
       "    </tr>\n",
       "  </thead>\n",
       "  <tbody>\n",
       "    <tr>\n",
       "      <th>0</th>\n",
       "      <td>Bonus kart Petrol ofisi akaryakıt kampanyası ...</td>\n",
       "      <td>Bonus kredi kartı sahipleri Petrol ofisi akar...</td>\n",
       "    </tr>\n",
       "    <tr>\n",
       "      <th>1</th>\n",
       "      <td>Bp akaryakıt Axess kredi kartı kampanyası 16 ...</td>\n",
       "      <td>Axess kredi kartınızla BP akaryakıt istasyonl...</td>\n",
       "    </tr>\n",
       "    <tr>\n",
       "      <th>2</th>\n",
       "      <td>Opet akaryakıt world kredi kartı kampanyası 1...</td>\n",
       "      <td>World kredi kartı sahipleri Opet akaryakıt is...</td>\n",
       "    </tr>\n",
       "    <tr>\n",
       "      <th>3</th>\n",
       "      <td>Shell akaryakıt maximum kart kampanyası 16 Ma...</td>\n",
       "      <td>Shell akaryakıt istasyonlarından farklı günle...</td>\n",
       "    </tr>\n",
       "    <tr>\n",
       "      <th>4</th>\n",
       "      <td>Petrol ofisi akaryakıt world kart kampanyası ...</td>\n",
       "      <td>World kredi kartı sahipleri Petrol ofisi akar...</td>\n",
       "    </tr>\n",
       "    <tr>\n",
       "      <th>...</th>\n",
       "      <td>...</td>\n",
       "      <td>...</td>\n",
       "    </tr>\n",
       "    <tr>\n",
       "      <th>587</th>\n",
       "      <td>Opette 60 TL Her Alışverişe Turkcell 30 TL He...</td>\n",
       "      <td>31 Ağustos tarihine kadar Opet İstasyonlarınd...</td>\n",
       "    </tr>\n",
       "    <tr>\n",
       "      <th>588</th>\n",
       "      <td>Petrol Ofisi Yenilikçi Fikirler Yarışması Kat...</td>\n",
       "      <td>Akaryakıt dağıtım sektörünün lideri Petrol Of...</td>\n",
       "    </tr>\n",
       "    <tr>\n",
       "      <th>589</th>\n",
       "      <td>Shell istasyonlarından 100 TL Akaryakıt Alıml...</td>\n",
       "      <td>21 Haziran 2010 tarihinden itibaren kampanyay...</td>\n",
       "    </tr>\n",
       "    <tr>\n",
       "      <th>590</th>\n",
       "      <td>Petline Oto Güneşlik ve Şapka Kampanyasi</td>\n",
       "      <td>Petline istasyonları müşterilerine yaz kampan...</td>\n",
       "    </tr>\n",
       "    <tr>\n",
       "      <th>591</th>\n",
       "      <td>Opet Money Card Kampanyasi ile 45 TL opet bonus</td>\n",
       "      <td>15 Haziran - 15 Temmuz 2010 tarihleri arasınd...</td>\n",
       "    </tr>\n",
       "  </tbody>\n",
       "</table>\n",
       "<p>592 rows × 2 columns</p>\n",
       "</div>"
      ],
      "text/plain": [
       "                                                 title  \\\n",
       "0     Bonus kart Petrol ofisi akaryakıt kampanyası ...   \n",
       "1     Bp akaryakıt Axess kredi kartı kampanyası 16 ...   \n",
       "2     Opet akaryakıt world kredi kartı kampanyası 1...   \n",
       "3     Shell akaryakıt maximum kart kampanyası 16 Ma...   \n",
       "4     Petrol ofisi akaryakıt world kart kampanyası ...   \n",
       "..                                                 ...   \n",
       "587   Opette 60 TL Her Alışverişe Turkcell 30 TL He...   \n",
       "588   Petrol Ofisi Yenilikçi Fikirler Yarışması Kat...   \n",
       "589   Shell istasyonlarından 100 TL Akaryakıt Alıml...   \n",
       "590           Petline Oto Güneşlik ve Şapka Kampanyasi   \n",
       "591    Opet Money Card Kampanyasi ile 45 TL opet bonus   \n",
       "\n",
       "                                               details  \n",
       "0     Bonus kredi kartı sahipleri Petrol ofisi akar...  \n",
       "1     Axess kredi kartınızla BP akaryakıt istasyonl...  \n",
       "2     World kredi kartı sahipleri Opet akaryakıt is...  \n",
       "3     Shell akaryakıt istasyonlarından farklı günle...  \n",
       "4     World kredi kartı sahipleri Petrol ofisi akar...  \n",
       "..                                                 ...  \n",
       "587   31 Ağustos tarihine kadar Opet İstasyonlarınd...  \n",
       "588   Akaryakıt dağıtım sektörünün lideri Petrol Of...  \n",
       "589   21 Haziran 2010 tarihinden itibaren kampanyay...  \n",
       "590   Petline istasyonları müşterilerine yaz kampan...  \n",
       "591   15 Haziran - 15 Temmuz 2010 tarihleri arasınd...  \n",
       "\n",
       "[592 rows x 2 columns]"
      ]
     },
     "execution_count": 4,
     "metadata": {},
     "output_type": "execute_result"
    }
   ],
   "source": [
    "df"
   ]
  },
  {
   "cell_type": "code",
   "execution_count": 5,
   "metadata": {
    "ExecuteTime": {
     "end_time": "2020-06-01T13:07:52.467227Z",
     "start_time": "2020-06-01T13:07:52.448647Z"
    }
   },
   "outputs": [],
   "source": [
    "df.to_csv('kampanyabul_scraping.csv')"
   ]
  },
  {
   "cell_type": "code",
   "execution_count": null,
   "metadata": {},
   "outputs": [],
   "source": []
  },
  {
   "cell_type": "code",
   "execution_count": null,
   "metadata": {
    "ExecuteTime": {
     "end_time": "2020-05-27T13:45:39.363790Z",
     "start_time": "2020-05-27T13:45:39.350593Z"
    }
   },
   "outputs": [],
   "source": [
    "#dummy\n",
    "\n",
    "#urls = []\n",
    "#for i in tags.find_all('a', href=True):\n",
    "#    urls.append((section.split(\"/\")[4],i['href']))"
   ]
  }
 ],
 "metadata": {
  "hide_input": false,
  "kernelspec": {
   "display_name": "Python 3",
   "language": "python",
   "name": "python3"
  },
  "language_info": {
   "codemirror_mode": {
    "name": "ipython",
    "version": 3
   },
   "file_extension": ".py",
   "mimetype": "text/x-python",
   "name": "python",
   "nbconvert_exporter": "python",
   "pygments_lexer": "ipython3",
   "version": "3.7.6"
  },
  "varInspector": {
   "cols": {
    "lenName": 16,
    "lenType": 16,
    "lenVar": 40
   },
   "kernels_config": {
    "python": {
     "delete_cmd_postfix": "",
     "delete_cmd_prefix": "del ",
     "library": "var_list.py",
     "varRefreshCmd": "print(var_dic_list())"
    },
    "r": {
     "delete_cmd_postfix": ") ",
     "delete_cmd_prefix": "rm(",
     "library": "var_list.r",
     "varRefreshCmd": "cat(var_dic_list()) "
    }
   },
   "types_to_exclude": [
    "module",
    "function",
    "builtin_function_or_method",
    "instance",
    "_Feature"
   ],
   "window_display": false
  }
 },
 "nbformat": 4,
 "nbformat_minor": 4
}
